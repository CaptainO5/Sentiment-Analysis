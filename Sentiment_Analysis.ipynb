{
  "nbformat": 4,
  "nbformat_minor": 0,
  "metadata": {
    "colab": {
      "name": "Sentiment Analysis.ipynb",
      "provenance": [],
      "collapsed_sections": []
    },
    "kernelspec": {
      "name": "python3",
      "display_name": "Python 3"
    }
  },
  "cells": [
    {
      "cell_type": "code",
      "metadata": {
        "id": "0s892UUf9i1D",
        "colab_type": "code",
        "colab": {}
      },
      "source": [
        "import warnings\n",
        "warnings.filterwarnings('ignore')"
      ],
      "execution_count": 0,
      "outputs": []
    },
    {
      "cell_type": "code",
      "metadata": {
        "id": "EG3tALpA95V7",
        "colab_type": "code",
        "colab": {}
      },
      "source": [
        "import pandas as pd\n",
        "\n",
        "uni_freq_data = pd.read_pickle(\"processed_data/unigram_frequency\")\n",
        "uni_pres_data = pd.read_pickle(\"processed_data/unigram_pres\")\n",
        "uni_bi_data = pd.read_pickle(\"processed_data/uni_bi_pres\")\n",
        "bi_pres_data = pd.read_pickle(\"processed_data/bi_pres\")\n",
        "POS_pres_data = pd.read_pickle(\"processed_data/POS_pres\")\n",
        "adj_pres_data = pd.read_pickle(\"processed_data/adj_pres\")\n",
        "top_uni_pres_data = pd.read_pickle(\"processed_data/top_uni_pres\")\n",
        "uni_pos_pres_data = pd.read_pickle(\"processed_data/uni_pos_pres\")\n",
        "classes = pd.read_pickle(\"processed_data/classes\")"
      ],
      "execution_count": 0,
      "outputs": []
    },
    {
      "cell_type": "code",
      "metadata": {
        "id": "X6Wf7D0l3WmY",
        "colab_type": "code",
        "colab": {
          "base_uri": "https://localhost:8080/",
          "height": 181
        },
        "outputId": "6b6302c5-e877-41bd-f5b6-8b483fc52578"
      },
      "source": [
        "from sklearn.naive_bayes import MultinomialNB\n",
        "from sklearn.svm import SVC\n",
        "from sklearn.linear_model import LogisticRegression\n",
        "from sklearn.model_selection import KFold\n",
        "import numpy as np\n",
        "\n",
        "def KfoldAccs(data, classes):\n",
        "  kf = KFold(3, random_state=0, shuffle=True)\n",
        "  models = [MultinomialNB(), SVC(), LogisticRegression()]\n",
        "  accs = []\n",
        "  for model in models:\n",
        "    acc = []\n",
        "    # print(\"\\tTraining ...\", end=\" \")\n",
        "    for train, test in kf.split(data, classes):\n",
        "      model.fit(data.iloc[train], classes.iloc[train])\n",
        "      acc.append(model.score(data.iloc[test], classes.iloc[test]))\n",
        "    accs.append(f\"{np.mean(acc)*100:.2f}\")\n",
        "  # print()\n",
        "  return accs\n",
        "\n",
        "print(\"Features\\t#of features\\tNaive Bayes\\tSVC\\tLogistic Regression\")\n",
        "print(f\"unigram freqs\\t{len(uni_freq_data.columns)}\\t\\t\" + \"\\t\\t\".join(KfoldAccs(uni_freq_data, classes)))\n",
        "print(f\"unigram pres\\t{len(uni_pres_data.columns)}\\t\\t\" + \"\\t\\t\".join(KfoldAccs(uni_pres_data, classes)))\n",
        "print(f\"uni+bigrams\\t{len(uni_bi_data.columns)}\\t\\t\" + \"\\t\\t\".join(KfoldAccs(uni_bi_data, classes)))\n",
        "print(f\"bigrams pres\\t{len(bi_pres_data.columns)}\\t\\t\" + \"\\t\\t\".join(KfoldAccs(bi_pres_data, classes)))\n",
        "print(f\"POS Tags\\t{len(POS_pres_data.columns)}\\t\\t\" + \"\\t\\t\".join(KfoldAccs(POS_pres_data, classes)))\n",
        "print(f\"adjectives\\t{len(adj_pres_data.columns)}\\t\\t\" + \"\\t\\t\".join(KfoldAccs(adj_pres_data, classes)))\n",
        "print(f\"top unigrams\\t{len(top_uni_pres_data.columns)}\\t\\t\" + \"\\t\\t\".join(KfoldAccs(top_uni_pres_data, classes)))\n",
        "print(f\"uni positions\\t{len(uni_pos_pres_data.columns)}\\t\\t\" + \"\\t\\t\".join(KfoldAccs(uni_pos_pres_data, classes)))"
      ],
      "execution_count": 3,
      "outputs": [
        {
          "output_type": "stream",
          "text": [
            "Features\t#of features\tNaive Bayes\tSVC\tLogistic Regression\n",
            "unigram freqs\t15521\t\t79.86\t\t70.29\t\t82.07\n",
            "unigram pres\t15521\t\t82.14\t\t83.21\t\t84.79\n",
            "uni+bigrams\t31042\t\t83.14\t\t81.71\t\t85.14\n",
            "bigrams pres\t15521\t\t81.07\t\t75.50\t\t78.14\n",
            "POS Tags\t17380\t\t81.50\t\t82.36\t\t85.00\n",
            "adjectives\t3065\t\t78.29\t\t76.71\t\t77.50\n",
            "top unigrams\t3065\t\t82.36\t\t83.64\t\t83.00\n",
            "uni positions\t21744\t\t81.71\t\t76.93\t\t79.50\n"
          ],
          "name": "stdout"
        }
      ]
    }
  ]
}